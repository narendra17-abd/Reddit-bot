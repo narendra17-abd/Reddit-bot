{
  "nbformat": 4,
  "nbformat_minor": 0,
  "metadata": {
    "colab": {
      "provenance": [],
      "authorship_tag": "ABX9TyOJJ15rkecXZrE9CHixJizF"
    },
    "kernelspec": {
      "name": "python3",
      "display_name": "Python 3"
    },
    "language_info": {
      "name": "python"
    }
  },
  "cells": [
    {
      "cell_type": "code",
      "execution_count": 1,
      "metadata": {
        "colab": {
          "base_uri": "https://localhost:8080/"
        },
        "id": "uMECn60nGXPB",
        "outputId": "8a465d99-c46d-4e32-8b73-085efb9dafd9"
      },
      "outputs": [
        {
          "output_type": "stream",
          "name": "stdout",
          "text": [
            "Collecting praw\n",
            "  Downloading praw-7.7.1-py3-none-any.whl (191 kB)\n",
            "\u001b[2K     \u001b[90m━━━━━━━━━━━━━━━━━━━━━━━━━━━━━━━━━━━━━━━━\u001b[0m \u001b[32m191.0/191.0 kB\u001b[0m \u001b[31m2.2 MB/s\u001b[0m eta \u001b[36m0:00:00\u001b[0m\n",
            "\u001b[?25hCollecting prawcore<3,>=2.1 (from praw)\n",
            "  Downloading prawcore-2.4.0-py3-none-any.whl (17 kB)\n",
            "Collecting update-checker>=0.18 (from praw)\n",
            "  Downloading update_checker-0.18.0-py3-none-any.whl (7.0 kB)\n",
            "Requirement already satisfied: websocket-client>=0.54.0 in /usr/local/lib/python3.10/dist-packages (from praw) (1.7.0)\n",
            "Requirement already satisfied: requests<3.0,>=2.6.0 in /usr/local/lib/python3.10/dist-packages (from prawcore<3,>=2.1->praw) (2.31.0)\n",
            "Requirement already satisfied: charset-normalizer<4,>=2 in /usr/local/lib/python3.10/dist-packages (from requests<3.0,>=2.6.0->prawcore<3,>=2.1->praw) (3.3.2)\n",
            "Requirement already satisfied: idna<4,>=2.5 in /usr/local/lib/python3.10/dist-packages (from requests<3.0,>=2.6.0->prawcore<3,>=2.1->praw) (3.6)\n",
            "Requirement already satisfied: urllib3<3,>=1.21.1 in /usr/local/lib/python3.10/dist-packages (from requests<3.0,>=2.6.0->prawcore<3,>=2.1->praw) (2.0.7)\n",
            "Requirement already satisfied: certifi>=2017.4.17 in /usr/local/lib/python3.10/dist-packages (from requests<3.0,>=2.6.0->prawcore<3,>=2.1->praw) (2024.2.2)\n",
            "Installing collected packages: update-checker, prawcore, praw\n",
            "Successfully installed praw-7.7.1 prawcore-2.4.0 update-checker-0.18.0\n"
          ]
        }
      ],
      "source": [
        "!pip install praw"
      ]
    },
    {
      "cell_type": "code",
      "source": [
        "!pip install openai migrate"
      ],
      "metadata": {
        "colab": {
          "base_uri": "https://localhost:8080/"
        },
        "id": "M7YTPLsfGd5Z",
        "outputId": "a6097406-4e05-4d91-d250-02d50e9c1ec0"
      },
      "execution_count": 2,
      "outputs": [
        {
          "output_type": "stream",
          "name": "stdout",
          "text": [
            "Collecting openai\n",
            "  Downloading openai-1.13.3-py3-none-any.whl (227 kB)\n",
            "\u001b[?25l     \u001b[90m━━━━━━━━━━━━━━━━━━━━━━━━━━━━━━━━━━━━━━━━\u001b[0m \u001b[32m0.0/227.4 kB\u001b[0m \u001b[31m?\u001b[0m eta \u001b[36m-:--:--\u001b[0m\r\u001b[2K     \u001b[91m━━━━━━━━━\u001b[0m\u001b[90m╺\u001b[0m\u001b[90m━━━━━━━━━━━━━━━━━━━━━━━━━━━━━━\u001b[0m \u001b[32m51.2/227.4 kB\u001b[0m \u001b[31m1.2 MB/s\u001b[0m eta \u001b[36m0:00:01\u001b[0m\r\u001b[2K     \u001b[91m━━━━━━━━━━━━━━━━━━━━━\u001b[0m\u001b[91m╸\u001b[0m\u001b[90m━━━━━━━━━━━━━━━━━━\u001b[0m \u001b[32m122.9/227.4 kB\u001b[0m \u001b[31m1.7 MB/s\u001b[0m eta \u001b[36m0:00:01\u001b[0m\r\u001b[2K     \u001b[90m━━━━━━━━━━━━━━━━━━━━━━━━━━━━━━━━━━━━━━━━\u001b[0m \u001b[32m227.4/227.4 kB\u001b[0m \u001b[31m2.4 MB/s\u001b[0m eta \u001b[36m0:00:00\u001b[0m\n",
            "\u001b[?25hCollecting migrate\n",
            "  Downloading migrate-0.3.8.tar.gz (5.2 kB)\n",
            "  Preparing metadata (setup.py) ... \u001b[?25l\u001b[?25hdone\n",
            "Requirement already satisfied: anyio<5,>=3.5.0 in /usr/local/lib/python3.10/dist-packages (from openai) (3.7.1)\n",
            "Requirement already satisfied: distro<2,>=1.7.0 in /usr/lib/python3/dist-packages (from openai) (1.7.0)\n",
            "Collecting httpx<1,>=0.23.0 (from openai)\n",
            "  Downloading httpx-0.27.0-py3-none-any.whl (75 kB)\n",
            "\u001b[2K     \u001b[90m━━━━━━━━━━━━━━━━━━━━━━━━━━━━━━━━━━━━━━━━\u001b[0m \u001b[32m75.6/75.6 kB\u001b[0m \u001b[31m8.4 MB/s\u001b[0m eta \u001b[36m0:00:00\u001b[0m\n",
            "\u001b[?25hRequirement already satisfied: pydantic<3,>=1.9.0 in /usr/local/lib/python3.10/dist-packages (from openai) (2.6.3)\n",
            "Requirement already satisfied: sniffio in /usr/local/lib/python3.10/dist-packages (from openai) (1.3.1)\n",
            "Requirement already satisfied: tqdm>4 in /usr/local/lib/python3.10/dist-packages (from openai) (4.66.2)\n",
            "Requirement already satisfied: typing-extensions<5,>=4.7 in /usr/local/lib/python3.10/dist-packages (from openai) (4.10.0)\n",
            "Requirement already satisfied: idna>=2.8 in /usr/local/lib/python3.10/dist-packages (from anyio<5,>=3.5.0->openai) (3.6)\n",
            "Requirement already satisfied: exceptiongroup in /usr/local/lib/python3.10/dist-packages (from anyio<5,>=3.5.0->openai) (1.2.0)\n",
            "Requirement already satisfied: certifi in /usr/local/lib/python3.10/dist-packages (from httpx<1,>=0.23.0->openai) (2024.2.2)\n",
            "Collecting httpcore==1.* (from httpx<1,>=0.23.0->openai)\n",
            "  Downloading httpcore-1.0.4-py3-none-any.whl (77 kB)\n",
            "\u001b[2K     \u001b[90m━━━━━━━━━━━━━━━━━━━━━━━━━━━━━━━━━━━━━━━━\u001b[0m \u001b[32m77.8/77.8 kB\u001b[0m \u001b[31m9.3 MB/s\u001b[0m eta \u001b[36m0:00:00\u001b[0m\n",
            "\u001b[?25hCollecting h11<0.15,>=0.13 (from httpcore==1.*->httpx<1,>=0.23.0->openai)\n",
            "  Downloading h11-0.14.0-py3-none-any.whl (58 kB)\n",
            "\u001b[2K     \u001b[90m━━━━━━━━━━━━━━━━━━━━━━━━━━━━━━━━━━━━━━━━\u001b[0m \u001b[32m58.3/58.3 kB\u001b[0m \u001b[31m6.7 MB/s\u001b[0m eta \u001b[36m0:00:00\u001b[0m\n",
            "\u001b[?25hRequirement already satisfied: annotated-types>=0.4.0 in /usr/local/lib/python3.10/dist-packages (from pydantic<3,>=1.9.0->openai) (0.6.0)\n",
            "Requirement already satisfied: pydantic-core==2.16.3 in /usr/local/lib/python3.10/dist-packages (from pydantic<3,>=1.9.0->openai) (2.16.3)\n",
            "Building wheels for collected packages: migrate\n",
            "  Building wheel for migrate (setup.py) ... \u001b[?25l\u001b[?25hdone\n",
            "  Created wheel for migrate: filename=migrate-0.3.8-py3-none-any.whl size=5658 sha256=2e3b2ac7e46d23bf06c68aa2b2ad660171843fd51dc8887d68033c8ea2dcdf73\n",
            "  Stored in directory: /root/.cache/pip/wheels/38/72/c2/a5386ddfcbec5b10fb8d2a6dc40d665b0245387523167911cc\n",
            "Successfully built migrate\n",
            "Installing collected packages: migrate, h11, httpcore, httpx, openai\n",
            "Successfully installed h11-0.14.0 httpcore-1.0.4 httpx-0.27.0 migrate-0.3.8 openai-1.13.3\n"
          ]
        }
      ]
    },
    {
      "cell_type": "code",
      "source": [
        "!pip install openai==0.28"
      ],
      "metadata": {
        "colab": {
          "base_uri": "https://localhost:8080/"
        },
        "id": "h0TodFHJGd8K",
        "outputId": "ca4508d7-28ee-4218-e386-5494e5ed8ec1"
      },
      "execution_count": 3,
      "outputs": [
        {
          "output_type": "stream",
          "name": "stdout",
          "text": [
            "Collecting openai==0.28\n",
            "  Downloading openai-0.28.0-py3-none-any.whl (76 kB)\n",
            "\u001b[2K     \u001b[90m━━━━━━━━━━━━━━━━━━━━━━━━━━━━━━━━━━━━━━━━\u001b[0m \u001b[32m76.5/76.5 kB\u001b[0m \u001b[31m1.1 MB/s\u001b[0m eta \u001b[36m0:00:00\u001b[0m\n",
            "\u001b[?25hRequirement already satisfied: requests>=2.20 in /usr/local/lib/python3.10/dist-packages (from openai==0.28) (2.31.0)\n",
            "Requirement already satisfied: tqdm in /usr/local/lib/python3.10/dist-packages (from openai==0.28) (4.66.2)\n",
            "Requirement already satisfied: aiohttp in /usr/local/lib/python3.10/dist-packages (from openai==0.28) (3.9.3)\n",
            "Requirement already satisfied: charset-normalizer<4,>=2 in /usr/local/lib/python3.10/dist-packages (from requests>=2.20->openai==0.28) (3.3.2)\n",
            "Requirement already satisfied: idna<4,>=2.5 in /usr/local/lib/python3.10/dist-packages (from requests>=2.20->openai==0.28) (3.6)\n",
            "Requirement already satisfied: urllib3<3,>=1.21.1 in /usr/local/lib/python3.10/dist-packages (from requests>=2.20->openai==0.28) (2.0.7)\n",
            "Requirement already satisfied: certifi>=2017.4.17 in /usr/local/lib/python3.10/dist-packages (from requests>=2.20->openai==0.28) (2024.2.2)\n",
            "Requirement already satisfied: aiosignal>=1.1.2 in /usr/local/lib/python3.10/dist-packages (from aiohttp->openai==0.28) (1.3.1)\n",
            "Requirement already satisfied: attrs>=17.3.0 in /usr/local/lib/python3.10/dist-packages (from aiohttp->openai==0.28) (23.2.0)\n",
            "Requirement already satisfied: frozenlist>=1.1.1 in /usr/local/lib/python3.10/dist-packages (from aiohttp->openai==0.28) (1.4.1)\n",
            "Requirement already satisfied: multidict<7.0,>=4.5 in /usr/local/lib/python3.10/dist-packages (from aiohttp->openai==0.28) (6.0.5)\n",
            "Requirement already satisfied: yarl<2.0,>=1.0 in /usr/local/lib/python3.10/dist-packages (from aiohttp->openai==0.28) (1.9.4)\n",
            "Requirement already satisfied: async-timeout<5.0,>=4.0 in /usr/local/lib/python3.10/dist-packages (from aiohttp->openai==0.28) (4.0.3)\n",
            "Installing collected packages: openai\n",
            "  Attempting uninstall: openai\n",
            "    Found existing installation: openai 1.13.3\n",
            "    Uninstalling openai-1.13.3:\n",
            "      Successfully uninstalled openai-1.13.3\n",
            "Successfully installed openai-0.28.0\n"
          ]
        }
      ]
    },
    {
      "cell_type": "code",
      "source": [
        "import praw"
      ],
      "metadata": {
        "id": "2kMG2BcIGd-j"
      },
      "execution_count": 4,
      "outputs": []
    },
    {
      "cell_type": "code",
      "source": [
        "def authenticate_reddit():\n",
        "    # Read credentials from files\n",
        "    client_id = open(\"/content/client_id.txt\").read()\n",
        "    client_service = open(\"/content/client_service.txt\").read()\n",
        "    password = open(\"/content/password.txt\").read()\n",
        "    user_agent = open(\"/content/user_agent.txt\").read()\n",
        "    username = open(\"/content/username.txt\").read()\n",
        "\n",
        "    # Create and return a Reddit instance\n",
        "    return praw.Reddit(\n",
        "        client_id=client_id,\n",
        "        client_secret=client_service,\n",
        "        password=password,\n",
        "        user_agent=user_agent,\n",
        "        username=username,\n",
        "        check_for_async=False\n",
        "    )\n",
        "reddit_instance = authenticate_reddit()"
      ],
      "metadata": {
        "id": "s6pFpFzsGeBI"
      },
      "execution_count": 5,
      "outputs": []
    },
    {
      "cell_type": "code",
      "source": [
        "abc=[]\n",
        "def get_top_comments(submission_url, num_comments=10):\n",
        "    try:\n",
        "        # Fetch submission instance\n",
        "        submission = reddit_instance.submission(url=submission_url)\n",
        "\n",
        "        # Get the top comments\n",
        "        # Corrected usage\n",
        "        submission = reddit_instance.submission(url=submission_url)\n",
        "        comments = submission.comments\n",
        "\n",
        "        for comment in comments:\n",
        "    # Process each comment\n",
        "         print(comment ,\"--\", comment.body)\n",
        "\n",
        "         abc.append(comment.body)\n",
        "\n",
        "    except Exception as e:\n",
        "        print(f\"An error occurred: {e}\")\n",
        "        return None\n",
        "    print(abc)"
      ],
      "metadata": {
        "id": "g9wdAKvmGeDb"
      },
      "execution_count": 6,
      "outputs": []
    },
    {
      "cell_type": "code",
      "source": [
        "submission_url = \"https://www.reddit.com/r/bikes/comments/ugyzgv/i_cant_decide_what_type_of_bike_i_should_get_i/\"\n",
        "get_top_comments(submission_url, num_comments=10)"
      ],
      "metadata": {
        "colab": {
          "base_uri": "https://localhost:8080/"
        },
        "id": "lEymXur4GeFu",
        "outputId": "a63087f8-aeb8-406a-fdb5-edb4d0bdf166"
      },
      "execution_count": 7,
      "outputs": [
        {
          "output_type": "stream",
          "name": "stdout",
          "text": [
            "i72qbma -- You could always try used bikes on Craigslist. Sometimes people sell decent bikes on there for under $200. Try going with a bike that is from a local bike shop. Sometimes if its a few years old they can go for about $200. Giant is a good brand and make decent mountain bikes. Avoid department store bikes if you want something reliable. Never buy bikes from Wallmart, Target etc. They are pure junk.\n",
            "ig2susb -- Thanks for posting here. We can support you with some $$ if you are interested.\n",
            "irc2pex -- God, I totally wish I had a bike! A reliable one sounds good, too. Good luck!\n",
            "jn83x6b -- Getting Brand new mountain bikes in this budget would be difficult i feel, You can consider brands like Diamondback, Schwinn, Huffy, and Mongoose. These brands offer affordable options that may fit your budget and provide decent performance for recreational off-road riding.  Check out for sales, discounts, or used options to maximize your chances of finding a suitable bike within your budget.\n",
            "joi5x2b -- I'm with you OP. I need a bike to start going on rides. I was looking at the Amazon outdoor foldable bike for $129+99 shipping, but reviews say it's good, but everywhere else says it's trash.\n",
            "\n",
            "I'm out of the bike loop. I dont know brands. My last bike was a mongoose. That was a solid bike, but that was when I was 14. I'm not an enthusiasts, I'm just looming for a bike to ride the streets, paths, maybe even grass. And like op, I don't want to spend much more than $200.\n",
            "jp8is9f -- You could definitely find a good used one for that money, keep a look out for a well maintained bargain someone is in a hurry to get rid of.\n",
            "\n",
            "If you're buying new you are looking at the cheapest Wal mart type bikes which I would avoid.\n",
            "\n",
            "Don't buy anything fancy, find one that uses cheap easy to find parts, so that it will be cheap to maintain.\n",
            "\n",
            "I'm not the US so can't recommend where to look but Facebook is good for things like this and they are usually local\n",
            "jyzqodz -- Sure thing! With a $200 budget, look for a used mountain bike. Check online ads and local shops. Prioritize reliability, check for well-maintained bikes. Consider hybrids for a mix of trails and speed. Be ready for some compromises. Test ride before buying. Also, the[Indian FTR Carbon](https://www.bikescatalog.com/2022-indian-ftr-1200-r-carbon-naked-motorcycle.html) is a high-end motorcycle, not a mountain bike, and won't fit your budget. Happy riding!\n",
            "k16rehf -- Facebook Marketplace is also good! Uve gotten several bikes on there for $20 a Schwinn Stingray (love them!) & A Jamis 30 for $20. Both awesome bikes in great condition. The most I payed was $130 for a trek mountain bike!\n",
            "k16sa3g -- Hi I'm new to this discussion but I am really into bikes & want to build my own from already used bikes. So I put 26in tires on a Giant bike that had 24in tires when I bought it (also for $20!) and the pull brake set up doesn't fit it. I need to k ow if 8 can take the brakes from the bike that had the 26in tires that I used & bolt it onto my Giant?? Can I thread the brake lines from the Giant thru the brackets from the bigger bike I took the tires from? I would appreciate any advice & help anyone can offer. Thanks so much\n",
            "k32p7gg -- Your best bet for a 200 dollar range is probably gonna be schwinn. Good, cheap & fast.\n",
            "kfnw3yb -- You will be good with a shcwinn for that price\n",
            "khbvz48 -- These days FB marketplace seems to have more listings. Always check with local bike shops as well. They may have good deal on used bikes and they also offer free tune up within certain year or something. Bikes bought from local stores are likely to be repair friendly for part replacements. I have found that bike repair technicians don't like to repair bikes bought from big box stores.\n",
            "['You could always try used bikes on Craigslist. Sometimes people sell decent bikes on there for under $200. Try going with a bike that is from a local bike shop. Sometimes if its a few years old they can go for about $200. Giant is a good brand and make decent mountain bikes. Avoid department store bikes if you want something reliable. Never buy bikes from Wallmart, Target etc. They are pure junk.', 'Thanks for posting here. We can support you with some $$ if you are interested.', 'God, I totally wish I had a bike! A reliable one sounds good, too. Good luck!', 'Getting Brand new mountain bikes in this budget would be difficult i feel, You can consider brands like Diamondback, Schwinn, Huffy, and Mongoose. These brands offer affordable options that may fit your budget and provide decent performance for recreational off-road riding.  Check out for sales, discounts, or used options to maximize your chances of finding a suitable bike within your budget.', \"I'm with you OP. I need a bike to start going on rides. I was looking at the Amazon outdoor foldable bike for $129+99 shipping, but reviews say it's good, but everywhere else says it's trash.\\n\\nI'm out of the bike loop. I dont know brands. My last bike was a mongoose. That was a solid bike, but that was when I was 14. I'm not an enthusiasts, I'm just looming for a bike to ride the streets, paths, maybe even grass. And like op, I don't want to spend much more than $200.\", \"You could definitely find a good used one for that money, keep a look out for a well maintained bargain someone is in a hurry to get rid of.\\n\\nIf you're buying new you are looking at the cheapest Wal mart type bikes which I would avoid.\\n\\nDon't buy anything fancy, find one that uses cheap easy to find parts, so that it will be cheap to maintain.\\n\\nI'm not the US so can't recommend where to look but Facebook is good for things like this and they are usually local\", \"Sure thing! With a $200 budget, look for a used mountain bike. Check online ads and local shops. Prioritize reliability, check for well-maintained bikes. Consider hybrids for a mix of trails and speed. Be ready for some compromises. Test ride before buying. Also, the[Indian FTR Carbon](https://www.bikescatalog.com/2022-indian-ftr-1200-r-carbon-naked-motorcycle.html) is a high-end motorcycle, not a mountain bike, and won't fit your budget. Happy riding!\", 'Facebook Marketplace is also good! Uve gotten several bikes on there for $20 a Schwinn Stingray (love them!) & A Jamis 30 for $20. Both awesome bikes in great condition. The most I payed was $130 for a trek mountain bike!', \"Hi I'm new to this discussion but I am really into bikes & want to build my own from already used bikes. So I put 26in tires on a Giant bike that had 24in tires when I bought it (also for $20!) and the pull brake set up doesn't fit it. I need to k ow if 8 can take the brakes from the bike that had the 26in tires that I used & bolt it onto my Giant?? Can I thread the brake lines from the Giant thru the brackets from the bigger bike I took the tires from? I would appreciate any advice & help anyone can offer. Thanks so much\", 'Your best bet for a 200 dollar range is probably gonna be schwinn. Good, cheap & fast.', 'You will be good with a shcwinn for that price', \"These days FB marketplace seems to have more listings. Always check with local bike shops as well. They may have good deal on used bikes and they also offer free tune up within certain year or something. Bikes bought from local stores are likely to be repair friendly for part replacements. I have found that bike repair technicians don't like to repair bikes bought from big box stores.\"]\n"
          ]
        }
      ]
    },
    {
      "cell_type": "code",
      "source": [
        "import openai\n",
        "\n",
        "# Set up your OpenAI GPT-3 API key\n",
        "openai.api_key = 'your-api-key'\n",
        "\n",
        "def generate_answer(prompt,abc):\n",
        "    try:\n",
        "      for comment in abc:\n",
        "\n",
        "            prompt += f\"Comment: {comment}\\n\"\n",
        "            prompt += \"----------------------\\n\"\n",
        "        # Use GPT-3 to generate an answer based on the prompt\n",
        "      response = openai.ChatCompletion.create(\n",
        "            model=\"gpt-3.5-turbo\",\n",
        "            messages=[\n",
        "                {\"role\": \"user\", \"content\": prompt}\n",
        "            ]\n",
        "        )\n",
        "\n",
        "        # Extract the answer from the response\n",
        "      answer = response['choices'][0]['message']['content'].strip()\n",
        "\n",
        "      return answer\n",
        "\n",
        "    except Exception as e:\n",
        "        print(f\"An error occurred: {e}\")\n",
        "        return None\n",
        "\n",
        "# Example usage:\n",
        "user_prompt = \"generate a new comment from the following comments\"\n",
        "generated_answer = generate_answer(user_prompt,abc)\n",
        "\n",
        "if generated_answer:\n",
        "    print(\"Generated Answer:\", generated_answer)\n",
        "else:\n",
        "    print(\"Failed to generate answer.\")\n"
      ],
      "metadata": {
        "colab": {
          "base_uri": "https://localhost:8080/"
        },
        "id": "Iok8z65TGeJB",
        "outputId": "5db4abca-5f9a-4e59-8f88-8de68733772d"
      },
      "execution_count": 11,
      "outputs": [
        {
          "output_type": "stream",
          "name": "stdout",
          "text": [
            "Generated Answer: Comment: With a $200 budget, your best bet might be to check out used bikes on Craigslist or Facebook Marketplace. Look for brands like Schwinn or even Giant from local bike shops. Avoid department store bikes like those from Walmart or Target, as they are often considered to be low quality. Happy riding!\n"
          ]
        }
      ]
    },
    {
      "cell_type": "code",
      "source": [
        "def post_random_comment(x,generated_answer):\n",
        "    try:\n",
        "      submission = reddit_instance.submission(url=x)\n",
        "      submission.reply(generated_answer)\n",
        "      print(\"successfully commented\")\n",
        "    except Exception as e:\n",
        "        print(f\"An error occurred: {e}\")\n"
      ],
      "metadata": {
        "id": "BFgzkyGQKvfa"
      },
      "execution_count": 14,
      "outputs": []
    },
    {
      "cell_type": "code",
      "source": [
        "post_random_comment(\"https://www.reddit.com/r/test/comments/1b7pkgl/testingggg/\",generated_answer)"
      ],
      "metadata": {
        "colab": {
          "base_uri": "https://localhost:8080/"
        },
        "id": "QRPLTg8aLsfu",
        "outputId": "1e2b3f67-68b0-456a-c2f5-055188895ad6"
      },
      "execution_count": 15,
      "outputs": [
        {
          "output_type": "stream",
          "name": "stdout",
          "text": [
            "successfully commented\n"
          ]
        }
      ]
    },
    {
      "cell_type": "code",
      "source": [],
      "metadata": {
        "id": "80CiI6QzLsmh"
      },
      "execution_count": null,
      "outputs": []
    }
  ]
}