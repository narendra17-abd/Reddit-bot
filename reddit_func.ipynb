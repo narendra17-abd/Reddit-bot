{
  "nbformat": 4,
  "nbformat_minor": 0,
  "metadata": {
    "colab": {
      "provenance": [],
      "authorship_tag": "ABX9TyOVtHa6vEzaiIQd5mnQn8Oq"
    },
    "kernelspec": {
      "name": "python3",
      "display_name": "Python 3"
    },
    "language_info": {
      "name": "python"
    }
  },
  "cells": [
    {
      "cell_type": "code",
      "execution_count": 3,
      "metadata": {
        "colab": {
          "base_uri": "https://localhost:8080/"
        },
        "id": "Xgk2RGUw0FzT",
        "outputId": "7c30b4d9-68c7-4c65-b100-0953f9ba608b"
      },
      "outputs": [
        {
          "output_type": "stream",
          "name": "stdout",
          "text": [
            "Collecting praw\n",
            "  Downloading praw-7.7.1-py3-none-any.whl (191 kB)\n",
            "\u001b[?25l     \u001b[90m━━━━━━━━━━━━━━━━━━━━━━━━━━━━━━━━━━━━━━━━\u001b[0m \u001b[32m0.0/191.0 kB\u001b[0m \u001b[31m?\u001b[0m eta \u001b[36m-:--:--\u001b[0m\r\u001b[2K     \u001b[91m━━━━━━━━━━━━━━━━━━━━━━━━━\u001b[0m\u001b[91m╸\u001b[0m\u001b[90m━━━━━━━━━━━━━━\u001b[0m \u001b[32m122.9/191.0 kB\u001b[0m \u001b[31m3.4 MB/s\u001b[0m eta \u001b[36m0:00:01\u001b[0m\r\u001b[2K     \u001b[90m━━━━━━━━━━━━━━━━━━━━━━━━━━━━━━━━━━━━━━━━\u001b[0m \u001b[32m191.0/191.0 kB\u001b[0m \u001b[31m3.8 MB/s\u001b[0m eta \u001b[36m0:00:00\u001b[0m\n",
            "\u001b[?25hCollecting prawcore<3,>=2.1 (from praw)\n",
            "  Downloading prawcore-2.4.0-py3-none-any.whl (17 kB)\n",
            "Collecting update-checker>=0.18 (from praw)\n",
            "  Downloading update_checker-0.18.0-py3-none-any.whl (7.0 kB)\n",
            "Requirement already satisfied: websocket-client>=0.54.0 in /usr/local/lib/python3.10/dist-packages (from praw) (1.7.0)\n",
            "Requirement already satisfied: requests<3.0,>=2.6.0 in /usr/local/lib/python3.10/dist-packages (from prawcore<3,>=2.1->praw) (2.31.0)\n",
            "Requirement already satisfied: charset-normalizer<4,>=2 in /usr/local/lib/python3.10/dist-packages (from requests<3.0,>=2.6.0->prawcore<3,>=2.1->praw) (3.3.2)\n",
            "Requirement already satisfied: idna<4,>=2.5 in /usr/local/lib/python3.10/dist-packages (from requests<3.0,>=2.6.0->prawcore<3,>=2.1->praw) (3.6)\n",
            "Requirement already satisfied: urllib3<3,>=1.21.1 in /usr/local/lib/python3.10/dist-packages (from requests<3.0,>=2.6.0->prawcore<3,>=2.1->praw) (2.0.7)\n",
            "Requirement already satisfied: certifi>=2017.4.17 in /usr/local/lib/python3.10/dist-packages (from requests<3.0,>=2.6.0->prawcore<3,>=2.1->praw) (2024.2.2)\n",
            "Installing collected packages: update-checker, prawcore, praw\n",
            "Successfully installed praw-7.7.1 prawcore-2.4.0 update-checker-0.18.0\n"
          ]
        }
      ],
      "source": [
        "!pip install praw"
      ]
    },
    {
      "cell_type": "code",
      "source": [
        "import praw"
      ],
      "metadata": {
        "id": "m9fUKFz70WrG"
      },
      "execution_count": 4,
      "outputs": []
    },
    {
      "cell_type": "code",
      "source": [
        "def reddit_data(subreddit_name):\n",
        "    # Read credentials from files\n",
        "    client_id = open(\"/content/client_id.txt\").read()\n",
        "    client_service = open(\"/content/client_service.txt\").read()\n",
        "    password = open(\"/content/password.txt\").read()\n",
        "    user_agent = open(\"/content/user_agent.txt\").read()\n",
        "    username = open(\"/content/username.txt\").read()\n",
        "\n",
        "    # Create a Reddit instance\n",
        "    reddit = praw.Reddit(\n",
        "        client_id=client_id,\n",
        "        client_secret=client_service,\n",
        "        password=password,\n",
        "        user_agent=user_agent,\n",
        "        username=username,\n",
        "        check_for_async=False\n",
        "    )\n",
        "\n",
        "        # Print user information\n",
        "    print(f\"Logged in as: {reddit.user.me()}\")\n",
        "\n",
        "    # Top 10 posts from our home page\n",
        "    top_posts = reddit.front.top(limit=10)\n",
        "\n",
        "\n",
        "        # Fetch data from the specified subreddit\n",
        "    subreddit = reddit.subreddit(subreddit_name)\n",
        "\n",
        "        # Print information about the top 5 hot posts\n",
        "    print(f\"Top 10 hot posts in /r/{subreddit_name}:\")\n",
        "    for submission in subreddit.hot(limit=10):\n",
        "            if not submission.stickied:\n",
        "                print(f\"Title: {submission.title}\")\n",
        "                print(f\"Score: {submission.score}\")\n",
        "                print(\"--------------\")\n",
        "\n"
      ],
      "metadata": {
        "id": "NT9srLh20WuR"
      },
      "execution_count": 7,
      "outputs": []
    },
    {
      "cell_type": "code",
      "source": [
        "reddit_data(\"bikes\")"
      ],
      "metadata": {
        "colab": {
          "base_uri": "https://localhost:8080/"
        },
        "id": "Lz5nf48z0WxU",
        "outputId": "5dbffce4-fece-417c-ebb1-f044d4fb735f"
      },
      "execution_count": 8,
      "outputs": [
        {
          "output_type": "stream",
          "name": "stdout",
          "text": [
            "Logged in as: narendra17_abd\n",
            "Top 10 hot posts in /r/bikes:\n",
            "Title: How often do you replace the helmet for your bike?\n",
            "Score: 2\n",
            "--------------\n",
            "Title: Do you think on-line sellers shone should know anything about their bikes?\n",
            "Score: 3\n",
            "--------------\n",
            "Title: China VS Taiwan Bikes - what are your thoughts\n",
            "Score: 3\n",
            "--------------\n",
            "Title: I can't decide what type of bike I should get, I got a 200 dollar budget and don't know what to get. I'd prefer a mountain bike that goes fast you know I like speed but also I want something reliable such as a mountain bike\n",
            "Score: 9\n",
            "--------------\n",
            "Title: Any love for lowriders here? Offer up find plus front forks and handle bar upgrade.\n",
            "Score: 45\n",
            "--------------\n",
            "Title: Where can I get another one of these tires? Rear wheel.\n",
            "Score: 7\n",
            "--------------\n",
            "Title: Are there any bike brands that are still manufacturing bikes in the UK, Europe or US?\n",
            "Score: 3\n",
            "--------------\n",
            "Title: Looking to convert a single speed chainring into a 3 speed chainring. Is this possible?\n",
            "Score: 1\n",
            "--------------\n",
            "Title: Help with Snap on Fat tire Bike\n",
            "Score: 1\n",
            "--------------\n",
            "Title: cheap bike lock that notify me on my phone if someone tocuhes it?\n",
            "Score: 1\n",
            "--------------\n"
          ]
        }
      ]
    },
    {
      "cell_type": "code",
      "source": [
        "def post_data(subreddit_name, title, body):\n",
        "    # Read credentials from files\n",
        "    client_id = open(\"/content/client_id.txt\").read()\n",
        "    client_service = open(\"/content/client_service.txt\").read()\n",
        "    password = open(\"/content/password.txt\").read()\n",
        "    user_agent = open(\"/content/user_agent.txt\").read()\n",
        "    username = open(\"/content/username.txt\").read()\n",
        "\n",
        "    # Create a Reddit instance\n",
        "    reddit = praw.Reddit(\n",
        "        client_id=client_id,\n",
        "        client_secret=client_service,\n",
        "        password=password,\n",
        "        user_agent=user_agent,\n",
        "        username=username,\n",
        "        check_for_async=False\n",
        "    )\n",
        "\n",
        "    try:\n",
        "        # Fetch subreddit instance\n",
        "        subreddit = reddit.subreddit(subreddit_name)\n",
        "\n",
        "        # Submit a new post to the specified subreddit\n",
        "        new_submission = subreddit.submit(title=title, selftext=body)\n",
        "        print(f\"New submission created: {new_submission.url}\")\n",
        "\n",
        "    except Exception as e:\n",
        "        print(f\"An error occurred: {e}\")\n"
      ],
      "metadata": {
        "id": "lDeifj1q0W0M"
      },
      "execution_count": 9,
      "outputs": []
    },
    {
      "cell_type": "code",
      "source": [
        "post_data(\"test\",\"Can Anyone help me which is better bike to buy\",\"I need some data \")"
      ],
      "metadata": {
        "colab": {
          "base_uri": "https://localhost:8080/"
        },
        "id": "6jtL0mY80W23",
        "outputId": "e8fafec3-b312-450a-a382-3f79f3dafc43"
      },
      "execution_count": 11,
      "outputs": [
        {
          "output_type": "stream",
          "name": "stdout",
          "text": [
            "New submission created: https://www.reddit.com/r/test/comments/1b75h7a/can_anyone_help_me_which_is_better_bike_to_buy/\n"
          ]
        }
      ]
    },
    {
      "cell_type": "code",
      "source": [
        "post_data(\"bikes\",\"Can Anyone help me which is better bike to buy\",\"I need some data \")"
      ],
      "metadata": {
        "colab": {
          "base_uri": "https://localhost:8080/"
        },
        "id": "fi6l0sXi0W6Z",
        "outputId": "92c1e484-5b4e-4fee-bc85-8336cecaaaa5"
      },
      "execution_count": 12,
      "outputs": [
        {
          "output_type": "stream",
          "name": "stdout",
          "text": [
            "An error occurred: SUBREDDIT_NOTALLOWED: 'This community only allows trusted members to post here' on field 'sr'\n"
          ]
        }
      ]
    },
    {
      "cell_type": "code",
      "source": [
        "def join_subreddit(subreddit_name):\n",
        "    # Read credentials from files\n",
        "    client_id = open(\"/content/client_id.txt\").read()\n",
        "    client_service = open(\"/content/client_service.txt\").read()\n",
        "    password = open(\"/content/password.txt\").read()\n",
        "    user_agent = open(\"/content/user_agent.txt\").read()\n",
        "    username = open(\"/content/username.txt\").read()\n",
        "\n",
        "    # Create a Reddit instance\n",
        "    reddit = praw.Reddit(\n",
        "        client_id=client_id,\n",
        "        client_secret=client_service,\n",
        "        password=password,\n",
        "        user_agent=user_agent,\n",
        "        username=username,\n",
        "        check_for_async=False\n",
        "    )\n",
        "\n",
        "    try:\n",
        "        # Fetch subreddit instance\n",
        "        subreddit = reddit.subreddit(subreddit_name)\n",
        "\n",
        "        # Join the subreddit\n",
        "        subreddit.subscribe()\n",
        "        print(f\"Successfully joined /r/{subreddit_name}\")\n",
        "\n",
        "    except Exception as e:\n",
        "        print(f\"An error occurred: {e}\")\n"
      ],
      "metadata": {
        "id": "7hvGfcyd21Uf"
      },
      "execution_count": 13,
      "outputs": []
    },
    {
      "cell_type": "code",
      "source": [
        "join_subreddit(\"test\")"
      ],
      "metadata": {
        "colab": {
          "base_uri": "https://localhost:8080/"
        },
        "id": "M-PaUDwR21XP",
        "outputId": "85605d7f-fd6c-4118-a2e9-6462fe4a8cbc"
      },
      "execution_count": 14,
      "outputs": [
        {
          "output_type": "stream",
          "name": "stdout",
          "text": [
            "Successfully joined /r/test\n"
          ]
        }
      ]
    },
    {
      "cell_type": "code",
      "source": [
        "join_subreddit(\"bikes\")"
      ],
      "metadata": {
        "colab": {
          "base_uri": "https://localhost:8080/"
        },
        "id": "vdIRzejD21aK",
        "outputId": "89062fa9-a82a-4368-ccff-1efd0159b3ad"
      },
      "execution_count": 15,
      "outputs": [
        {
          "output_type": "stream",
          "name": "stdout",
          "text": [
            "Successfully joined /r/bikes\n"
          ]
        }
      ]
    },
    {
      "cell_type": "code",
      "source": [
        "def create_subreddit(subreddit_name, title, description, public=True, subreddit_type='public'):\n",
        "    # Read credentials from files\n",
        "    client_id = open(\"/content/client_id.txt\").read()\n",
        "    client_service = open(\"/content/client_service.txt\").read()\n",
        "    password = open(\"/content/password.txt\").read()\n",
        "    user_agent = open(\"/content/user_agent.txt\").read()\n",
        "    username = open(\"/content/username.txt\").read()\n",
        "\n",
        "    # Create a Reddit instance\n",
        "    reddit = praw.Reddit(\n",
        "        client_id=client_id,\n",
        "        client_secret=client_service,\n",
        "        password=password,\n",
        "        user_agent=user_agent,\n",
        "        username=username,\n",
        "        check_for_async=False\n",
        "    )\n",
        "\n",
        "    try:\n",
        "        # Create subreddit\n",
        "        new_subreddit = reddit.subreddit.create(\n",
        "            name=subreddit_name,\n",
        "            title=title,\n",
        "            description=description,\n",
        "            public=public,\n",
        "            subreddit_type=subreddit_type\n",
        "        )\n",
        "\n",
        "        print(f\"Successfully created subreddit: /r/{subreddit_name}\")\n",
        "\n",
        "    except Exception as e:\n",
        "        print(f\"An error occurred: {e}\")\n",
        "\n"
      ],
      "metadata": {
        "id": "yiwBNxQ_21c2"
      },
      "execution_count": 16,
      "outputs": []
    },
    {
      "cell_type": "code",
      "source": [
        "create_subreddit(\"HomePageOfABD\", \"Welcome to ABDs Page\", \"The posts and comments belong to ABD\")"
      ],
      "metadata": {
        "colab": {
          "base_uri": "https://localhost:8080/"
        },
        "id": "DVjaS7zr21gK",
        "outputId": "7442673b-e9fa-45c6-ea99-df1db0089dce"
      },
      "execution_count": 17,
      "outputs": [
        {
          "output_type": "stream",
          "name": "stdout",
          "text": [
            "Successfully created subreddit: /r/HomePageOfABD\n"
          ]
        }
      ]
    },
    {
      "cell_type": "code",
      "source": [
        "import random\n",
        "\n",
        "def post_random_comment(subreddit_name, limit=1, comment_text=\"Random Comment\"):\n",
        "    # Read credentials from files\n",
        "    client_id = open(\"/content/client_id.txt\").read()\n",
        "    client_service = open(\"/content/client_service.txt\").read()\n",
        "    password = open(\"/content/password.txt\").read()\n",
        "    user_agent = open(\"/content/user_agent.txt\").read()\n",
        "    username = open(\"/content/username.txt\").read()\n",
        "\n",
        "    # Create a Reddit instance\n",
        "    reddit = praw.Reddit(\n",
        "        client_id=client_id,\n",
        "        client_secret=client_service,\n",
        "        password=password,\n",
        "        user_agent=user_agent,\n",
        "        username=username,\n",
        "        check_for_async=False\n",
        "    )\n",
        "\n",
        "    try:\n",
        "        # Fetch subreddit instance\n",
        "        subreddit = reddit.subreddit(subreddit_name)\n",
        "\n",
        "        # Get top posts\n",
        "        top_posts = subreddit.top(limit=limit)\n",
        "\n",
        "        # Post a random comment on each post\n",
        "        for submission in top_posts:\n",
        "            if not submission.stickied:\n",
        "                random_comment = f\"{comment_text} {random.randint(1, 100)}\"  # Randomizing the comment\n",
        "                submission.reply(random_comment)\n",
        "                print(f\"Posted comment on {submission.title}\")\n",
        "                print(f\"Posted comment on {submission.url}\")\n",
        "\n",
        "    except Exception as e:\n",
        "        print(f\"An error occurred: {e}\")\n"
      ],
      "metadata": {
        "id": "38UUrRtl5BQ0"
      },
      "execution_count": 20,
      "outputs": []
    },
    {
      "cell_type": "code",
      "source": [
        "post_random_comment(\"test\", limit=1, comment_text=\"Hello from my page\")"
      ],
      "metadata": {
        "colab": {
          "base_uri": "https://localhost:8080/"
        },
        "id": "9ah74q3U5BUK",
        "outputId": "70d6bfe4-86a8-490e-f180-66c48aca10e0"
      },
      "execution_count": 21,
      "outputs": [
        {
          "output_type": "stream",
          "name": "stdout",
          "text": [
            "An error occurred: RATELIMIT: \"Looks like you've been doing that a lot. Take a break for 8 minutes before trying again.\" on field 'ratelimit'\n"
          ]
        }
      ]
    },
    {
      "cell_type": "code",
      "source": [
        "# def reddit_data(subreddit_name)\n",
        "# def post_data(subreddit_name, title, body)\n",
        "# def join_subreddit(subreddit_name)\n",
        "# def create_subreddit(subreddit_name, title, description, public=True, subreddit_type='public')\n",
        "# def post_random_comment(subreddit_name, limit=1, comment_text=\"Random Comment\")\n"
      ],
      "metadata": {
        "id": "Bzk_blkd5Bcq"
      },
      "execution_count": null,
      "outputs": []
    },
    {
      "cell_type": "code",
      "source": [
        "##  code didnt work\n",
        "def send_private_message(reddit, recipient_username, subject, message_body):\n",
        "    try:\n",
        "        # Compose and send a private message\n",
        "        reddit.redditor(recipient_username).message(subject, message_body)\n",
        "        print(f\"Message sent to {recipient_username} successfully.\")\n",
        "\n",
        "    except Exception as e:\n",
        "        print(f\"An error occurred: {e}\")\n",
        "\n",
        "# Example usage:\n",
        "# Assuming you have already authenticated with authenticate_reddit function\n",
        "reddit_instance = authenticate_reddit()\n",
        "\n",
        "recipient_username = \"sonutehrin\"\n",
        "subject = \"Hello from Reddit\"\n",
        "message_body = \"This is a test message from the Reddit. How are you doing?\"\n",
        "\n",
        "send_private_message(reddit_instance, recipient_username, subject, message_body)\n",
        "\n",
        "## didnt work"
      ],
      "metadata": {
        "colab": {
          "base_uri": "https://localhost:8080/"
        },
        "id": "0NN2VAgX5BgC",
        "outputId": "5b776dd3-03cf-4da4-bfd7-82e1b24f4bc9"
      },
      "execution_count": 26,
      "outputs": [
        {
          "output_type": "stream",
          "name": "stderr",
          "text": [
            "<ipython-input-26-bfe890e31803>:4: DeprecationWarning: Positional arguments for 'MessageableMixin.message' will no longer be supported in PRAW 8.\n",
            "Call this function with 'subject' and 'message' as keyword arguments.\n",
            "  reddit.redditor(recipient_username).message(subject, message_body)\n"
          ]
        },
        {
          "output_type": "stream",
          "name": "stdout",
          "text": [
            "Message sent to sonutehrin successfully.\n"
          ]
        }
      ]
    },
    {
      "cell_type": "code",
      "source": [
        "def authenticate_reddit():\n",
        "    # Read credentials from files\n",
        "    client_id = open(\"/content/client_id.txt\").read()\n",
        "    client_service = open(\"/content/client_service.txt\").read()\n",
        "    password = open(\"/content/password.txt\").read()\n",
        "    user_agent = open(\"/content/user_agent.txt\").read()\n",
        "    username = open(\"/content/username.txt\").read()\n",
        "\n",
        "    # Create and return a Reddit instance\n",
        "    return praw.Reddit(\n",
        "        client_id=client_id,\n",
        "        client_secret=client_service,\n",
        "        password=password,\n",
        "        user_agent=user_agent,\n",
        "        username=username,\n",
        "        check_for_async=False\n",
        "    )\n",
        "\n",
        "reddit_instance = authenticate_reddit()\n",
        "\n",
        "\n"
      ],
      "metadata": {
        "id": "h8welKMCK0BW"
      },
      "execution_count": 23,
      "outputs": []
    },
    {
      "cell_type": "code",
      "source": [],
      "metadata": {
        "id": "SLJ2nzWxK0EP"
      },
      "execution_count": null,
      "outputs": []
    },
    {
      "cell_type": "code",
      "source": [],
      "metadata": {
        "id": "BN0s9CozK0HO"
      },
      "execution_count": null,
      "outputs": []
    },
    {
      "cell_type": "code",
      "source": [],
      "metadata": {
        "id": "Ym3ehpnLK0Ku"
      },
      "execution_count": null,
      "outputs": []
    },
    {
      "cell_type": "code",
      "source": [],
      "metadata": {
        "id": "IegGRB5kK0OE"
      },
      "execution_count": null,
      "outputs": []
    }
  ]
}